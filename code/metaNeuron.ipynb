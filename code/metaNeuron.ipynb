{
 "cells": [
  {
   "cell_type": "markdown",
   "metadata": {},
   "source": [
    "# metaNeuron"
   ]
  },
  {
   "cell_type": "markdown",
   "metadata": {},
   "source": []
  },
  {
   "cell_type": "code",
   "execution_count": 5,
   "metadata": {},
   "outputs": [],
   "source": [
    "import tifffile as tf\n",
    "import os"
   ]
  },
  {
   "cell_type": "markdown",
   "metadata": {},
   "source": [
    "### Transform images into 3D arrays"
   ]
  },
  {
   "cell_type": "code",
   "execution_count": 1,
   "metadata": {},
   "outputs": [],
   "source": [
    "path_to_imgs = \"../raw_data\""
   ]
  },
  {
   "cell_type": "code",
   "execution_count": 2,
   "metadata": {},
   "outputs": [],
   "source": [
    "path_to_test_imgs = \"../raw_data/JERRY 7\""
   ]
  },
  {
   "cell_type": "code",
   "execution_count": 4,
   "metadata": {},
   "outputs": [
    {
     "data": {
      "text/plain": [
       "['SI38_J7_IM1_20200805_ROI1_00001_GFP.tif_16signed.tif',\n",
       " 'SI38_J7_IM4_20200819_ROI1_00001_GFP.tif_16signed.tif',\n",
       " 'SI38_J7_IM3_20200812_ROI1_00001_GFP.tif_16signed.tif']"
      ]
     },
     "execution_count": 4,
     "metadata": {},
     "output_type": "execute_result"
    }
   ],
   "source": [
    "# List all test files\n",
    "test_files = os.listdir(path_to_test_imgs)\n",
    "test_files"
   ]
  },
  {
   "cell_type": "code",
   "execution_count": 6,
   "metadata": {},
   "outputs": [],
   "source": [
    "# store image stacks in a dictionary for easy access\n",
    "img_stacks = {}\n",
    "\n",
    "for file_name in test_files:\n",
    "    # You might want to add a condition here to check if the file has a .tiff extension\n",
    "    if file_name.endswith('.tif'):\n",
    "        file_path = os.path.join(path_to_test_imgs, file_name)\n",
    "\n",
    "        # Extract id and time point from file names\n",
    "        mouse_id = file_name.split('_')[1]\n",
    "        t_pt = file_name.split('_')[2]\n",
    "\n",
    "        # Construct the dictionary key\n",
    "        dict_key = f\"img_stck_{mouse_id}_{t_pt}\"\n",
    "\n",
    "        # Load the TIFF image using tifffile\n",
    "        img_stacks[dict_key] = tf.imread(file_path)"
   ]
  },
  {
   "cell_type": "code",
   "execution_count": 7,
   "metadata": {},
   "outputs": [
    {
     "name": "stdout",
     "output_type": "stream",
     "text": [
      "img_stck_J7_IM1: (44, 1024, 1024)\n",
      "img_stck_J7_IM4: (52, 1024, 1024)\n",
      "img_stck_J7_IM3: (42, 1024, 1024)\n"
     ]
    }
   ],
   "source": [
    "for key, value in img_stacks.items():\n",
    "    print(f\"{key}: {value.shape}\")"
   ]
  },
  {
   "cell_type": "markdown",
   "metadata": {},
   "source": [
    "### Normalize arrays"
   ]
  },
  {
   "cell_type": "markdown",
   "metadata": {},
   "source": []
  },
  {
   "cell_type": "code",
   "execution_count": 8,
   "metadata": {},
   "outputs": [],
   "source": [
    "def scale_vector(x):\n",
    "    # set new value range\n",
    "    a, b = -1, 1  \n",
    "    a + ((x - x.min()) * (b - a)) / (x.max() - x.min())\n"
   ]
  },
  {
   "cell_type": "code",
   "execution_count": 10,
   "metadata": {},
   "outputs": [],
   "source": [
    "#scale arrays using dict comprehension\n",
    "scaled_test_img_stacks = {key: scale_vector(value) for key, value in img_stacks.items()}"
   ]
  }
 ],
 "metadata": {
  "kernelspec": {
   "display_name": "base",
   "language": "python",
   "name": "python3"
  },
  "language_info": {
   "codemirror_mode": {
    "name": "ipython",
    "version": 3
   },
   "file_extension": ".py",
   "mimetype": "text/x-python",
   "name": "python",
   "nbconvert_exporter": "python",
   "pygments_lexer": "ipython3",
   "version": "3.10.11"
  },
  "orig_nbformat": 4
 },
 "nbformat": 4,
 "nbformat_minor": 2
}
